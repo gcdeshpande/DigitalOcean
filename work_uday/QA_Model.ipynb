{
  "nbformat": 4,
  "nbformat_minor": 0,
  "metadata": {
    "kernelspec": {
      "language": "python",
      "display_name": "Python 3",
      "name": "python3"
    },
    "language_info": {
      "pygments_lexer": "ipython3",
      "nbconvert_exporter": "python",
      "version": "3.6.4",
      "file_extension": ".py",
      "codemirror_mode": {
        "name": "ipython",
        "version": 3
      },
      "name": "python",
      "mimetype": "text/x-python"
    },
    "colab": {
      "name": "QA_Model.ipynb",
      "provenance": [],
      "collapsed_sections": [],
      "toc_visible": true
    },
    "accelerator": "GPU",
    "widgets": {
      "application/vnd.jupyter.widget-state+json": {
        "053c240e37e347ba8e516fc0eeba6809": {
          "model_module": "@jupyter-widgets/controls",
          "model_name": "HBoxModel",
          "state": {
            "_view_name": "HBoxView",
            "_dom_classes": [],
            "_model_name": "HBoxModel",
            "_view_module": "@jupyter-widgets/controls",
            "_model_module_version": "1.5.0",
            "_view_count": null,
            "_view_module_version": "1.5.0",
            "box_style": "",
            "layout": "IPY_MODEL_62592f52d2514195aa4146040746b438",
            "_model_module": "@jupyter-widgets/controls",
            "children": [
              "IPY_MODEL_f9e01853226645af8019a53c241b6819",
              "IPY_MODEL_d0149ab872444975bf8a0c7f46cbb0ae"
            ]
          }
        },
        "62592f52d2514195aa4146040746b438": {
          "model_module": "@jupyter-widgets/base",
          "model_name": "LayoutModel",
          "state": {
            "_view_name": "LayoutView",
            "grid_template_rows": null,
            "right": null,
            "justify_content": null,
            "_view_module": "@jupyter-widgets/base",
            "overflow": null,
            "_model_module_version": "1.2.0",
            "_view_count": null,
            "flex_flow": null,
            "width": null,
            "min_width": null,
            "border": null,
            "align_items": null,
            "bottom": null,
            "_model_module": "@jupyter-widgets/base",
            "top": null,
            "grid_column": null,
            "overflow_y": null,
            "overflow_x": null,
            "grid_auto_flow": null,
            "grid_area": null,
            "grid_template_columns": null,
            "flex": null,
            "_model_name": "LayoutModel",
            "justify_items": null,
            "grid_row": null,
            "max_height": null,
            "align_content": null,
            "visibility": null,
            "align_self": null,
            "height": null,
            "min_height": null,
            "padding": null,
            "grid_auto_rows": null,
            "grid_gap": null,
            "max_width": null,
            "order": null,
            "_view_module_version": "1.2.0",
            "grid_template_areas": null,
            "object_position": null,
            "object_fit": null,
            "grid_auto_columns": null,
            "margin": null,
            "display": null,
            "left": null
          }
        },
        "f9e01853226645af8019a53c241b6819": {
          "model_module": "@jupyter-widgets/controls",
          "model_name": "FloatProgressModel",
          "state": {
            "_view_name": "ProgressView",
            "style": "IPY_MODEL_21fa57a25b7c4d4f92450d3f8e494dd2",
            "_dom_classes": [],
            "description": "Downloading: 100%",
            "_model_name": "FloatProgressModel",
            "bar_style": "success",
            "max": 443,
            "_view_module": "@jupyter-widgets/controls",
            "_model_module_version": "1.5.0",
            "value": 443,
            "_view_count": null,
            "_view_module_version": "1.5.0",
            "orientation": "horizontal",
            "min": 0,
            "description_tooltip": null,
            "_model_module": "@jupyter-widgets/controls",
            "layout": "IPY_MODEL_f40cb01354d64a73b68f7e6501695734"
          }
        },
        "d0149ab872444975bf8a0c7f46cbb0ae": {
          "model_module": "@jupyter-widgets/controls",
          "model_name": "HTMLModel",
          "state": {
            "_view_name": "HTMLView",
            "style": "IPY_MODEL_25128ac44d524bb196fe9c73f0223810",
            "_dom_classes": [],
            "description": "",
            "_model_name": "HTMLModel",
            "placeholder": "​",
            "_view_module": "@jupyter-widgets/controls",
            "_model_module_version": "1.5.0",
            "value": " 443/443 [00:00&lt;00:00, 2.06kB/s]",
            "_view_count": null,
            "_view_module_version": "1.5.0",
            "description_tooltip": null,
            "_model_module": "@jupyter-widgets/controls",
            "layout": "IPY_MODEL_d5e32343d0a243e3bd7a2d10e551c13b"
          }
        },
        "21fa57a25b7c4d4f92450d3f8e494dd2": {
          "model_module": "@jupyter-widgets/controls",
          "model_name": "ProgressStyleModel",
          "state": {
            "_view_name": "StyleView",
            "_model_name": "ProgressStyleModel",
            "description_width": "initial",
            "_view_module": "@jupyter-widgets/base",
            "_model_module_version": "1.5.0",
            "_view_count": null,
            "_view_module_version": "1.2.0",
            "bar_color": null,
            "_model_module": "@jupyter-widgets/controls"
          }
        },
        "f40cb01354d64a73b68f7e6501695734": {
          "model_module": "@jupyter-widgets/base",
          "model_name": "LayoutModel",
          "state": {
            "_view_name": "LayoutView",
            "grid_template_rows": null,
            "right": null,
            "justify_content": null,
            "_view_module": "@jupyter-widgets/base",
            "overflow": null,
            "_model_module_version": "1.2.0",
            "_view_count": null,
            "flex_flow": null,
            "width": null,
            "min_width": null,
            "border": null,
            "align_items": null,
            "bottom": null,
            "_model_module": "@jupyter-widgets/base",
            "top": null,
            "grid_column": null,
            "overflow_y": null,
            "overflow_x": null,
            "grid_auto_flow": null,
            "grid_area": null,
            "grid_template_columns": null,
            "flex": null,
            "_model_name": "LayoutModel",
            "justify_items": null,
            "grid_row": null,
            "max_height": null,
            "align_content": null,
            "visibility": null,
            "align_self": null,
            "height": null,
            "min_height": null,
            "padding": null,
            "grid_auto_rows": null,
            "grid_gap": null,
            "max_width": null,
            "order": null,
            "_view_module_version": "1.2.0",
            "grid_template_areas": null,
            "object_position": null,
            "object_fit": null,
            "grid_auto_columns": null,
            "margin": null,
            "display": null,
            "left": null
          }
        },
        "25128ac44d524bb196fe9c73f0223810": {
          "model_module": "@jupyter-widgets/controls",
          "model_name": "DescriptionStyleModel",
          "state": {
            "_view_name": "StyleView",
            "_model_name": "DescriptionStyleModel",
            "description_width": "",
            "_view_module": "@jupyter-widgets/base",
            "_model_module_version": "1.5.0",
            "_view_count": null,
            "_view_module_version": "1.2.0",
            "_model_module": "@jupyter-widgets/controls"
          }
        },
        "d5e32343d0a243e3bd7a2d10e551c13b": {
          "model_module": "@jupyter-widgets/base",
          "model_name": "LayoutModel",
          "state": {
            "_view_name": "LayoutView",
            "grid_template_rows": null,
            "right": null,
            "justify_content": null,
            "_view_module": "@jupyter-widgets/base",
            "overflow": null,
            "_model_module_version": "1.2.0",
            "_view_count": null,
            "flex_flow": null,
            "width": null,
            "min_width": null,
            "border": null,
            "align_items": null,
            "bottom": null,
            "_model_module": "@jupyter-widgets/base",
            "top": null,
            "grid_column": null,
            "overflow_y": null,
            "overflow_x": null,
            "grid_auto_flow": null,
            "grid_area": null,
            "grid_template_columns": null,
            "flex": null,
            "_model_name": "LayoutModel",
            "justify_items": null,
            "grid_row": null,
            "max_height": null,
            "align_content": null,
            "visibility": null,
            "align_self": null,
            "height": null,
            "min_height": null,
            "padding": null,
            "grid_auto_rows": null,
            "grid_gap": null,
            "max_width": null,
            "order": null,
            "_view_module_version": "1.2.0",
            "grid_template_areas": null,
            "object_position": null,
            "object_fit": null,
            "grid_auto_columns": null,
            "margin": null,
            "display": null,
            "left": null
          }
        },
        "02cd587de1264258aa20337c67b1156c": {
          "model_module": "@jupyter-widgets/controls",
          "model_name": "HBoxModel",
          "state": {
            "_view_name": "HBoxView",
            "_dom_classes": [],
            "_model_name": "HBoxModel",
            "_view_module": "@jupyter-widgets/controls",
            "_model_module_version": "1.5.0",
            "_view_count": null,
            "_view_module_version": "1.5.0",
            "box_style": "",
            "layout": "IPY_MODEL_0426816c42cc4a21b6281d82d1e0feb6",
            "_model_module": "@jupyter-widgets/controls",
            "children": [
              "IPY_MODEL_b58050fca6fa4c0391d44b4ff718f68f",
              "IPY_MODEL_541f565c3f7142b5a608d5d91208f105"
            ]
          }
        },
        "0426816c42cc4a21b6281d82d1e0feb6": {
          "model_module": "@jupyter-widgets/base",
          "model_name": "LayoutModel",
          "state": {
            "_view_name": "LayoutView",
            "grid_template_rows": null,
            "right": null,
            "justify_content": null,
            "_view_module": "@jupyter-widgets/base",
            "overflow": null,
            "_model_module_version": "1.2.0",
            "_view_count": null,
            "flex_flow": null,
            "width": null,
            "min_width": null,
            "border": null,
            "align_items": null,
            "bottom": null,
            "_model_module": "@jupyter-widgets/base",
            "top": null,
            "grid_column": null,
            "overflow_y": null,
            "overflow_x": null,
            "grid_auto_flow": null,
            "grid_area": null,
            "grid_template_columns": null,
            "flex": null,
            "_model_name": "LayoutModel",
            "justify_items": null,
            "grid_row": null,
            "max_height": null,
            "align_content": null,
            "visibility": null,
            "align_self": null,
            "height": null,
            "min_height": null,
            "padding": null,
            "grid_auto_rows": null,
            "grid_gap": null,
            "max_width": null,
            "order": null,
            "_view_module_version": "1.2.0",
            "grid_template_areas": null,
            "object_position": null,
            "object_fit": null,
            "grid_auto_columns": null,
            "margin": null,
            "display": null,
            "left": null
          }
        },
        "b58050fca6fa4c0391d44b4ff718f68f": {
          "model_module": "@jupyter-widgets/controls",
          "model_name": "FloatProgressModel",
          "state": {
            "_view_name": "ProgressView",
            "style": "IPY_MODEL_696c4c900fe54fb1bf546e986e25c557",
            "_dom_classes": [],
            "description": "Downloading: 100%",
            "_model_name": "FloatProgressModel",
            "bar_style": "success",
            "max": 1340675298,
            "_view_module": "@jupyter-widgets/controls",
            "_model_module_version": "1.5.0",
            "value": 1340675298,
            "_view_count": null,
            "_view_module_version": "1.5.0",
            "orientation": "horizontal",
            "min": 0,
            "description_tooltip": null,
            "_model_module": "@jupyter-widgets/controls",
            "layout": "IPY_MODEL_83c33fa947fc49a492ebd5b31fc86b16"
          }
        },
        "541f565c3f7142b5a608d5d91208f105": {
          "model_module": "@jupyter-widgets/controls",
          "model_name": "HTMLModel",
          "state": {
            "_view_name": "HTMLView",
            "style": "IPY_MODEL_c551759ef4d949689567a38e3a483f90",
            "_dom_classes": [],
            "description": "",
            "_model_name": "HTMLModel",
            "placeholder": "​",
            "_view_module": "@jupyter-widgets/controls",
            "_model_module_version": "1.5.0",
            "value": " 1.34G/1.34G [00:54&lt;00:00, 24.6MB/s]",
            "_view_count": null,
            "_view_module_version": "1.5.0",
            "description_tooltip": null,
            "_model_module": "@jupyter-widgets/controls",
            "layout": "IPY_MODEL_26c251fe2e2c48a38fd7d1ccab488ffd"
          }
        },
        "696c4c900fe54fb1bf546e986e25c557": {
          "model_module": "@jupyter-widgets/controls",
          "model_name": "ProgressStyleModel",
          "state": {
            "_view_name": "StyleView",
            "_model_name": "ProgressStyleModel",
            "description_width": "initial",
            "_view_module": "@jupyter-widgets/base",
            "_model_module_version": "1.5.0",
            "_view_count": null,
            "_view_module_version": "1.2.0",
            "bar_color": null,
            "_model_module": "@jupyter-widgets/controls"
          }
        },
        "83c33fa947fc49a492ebd5b31fc86b16": {
          "model_module": "@jupyter-widgets/base",
          "model_name": "LayoutModel",
          "state": {
            "_view_name": "LayoutView",
            "grid_template_rows": null,
            "right": null,
            "justify_content": null,
            "_view_module": "@jupyter-widgets/base",
            "overflow": null,
            "_model_module_version": "1.2.0",
            "_view_count": null,
            "flex_flow": null,
            "width": null,
            "min_width": null,
            "border": null,
            "align_items": null,
            "bottom": null,
            "_model_module": "@jupyter-widgets/base",
            "top": null,
            "grid_column": null,
            "overflow_y": null,
            "overflow_x": null,
            "grid_auto_flow": null,
            "grid_area": null,
            "grid_template_columns": null,
            "flex": null,
            "_model_name": "LayoutModel",
            "justify_items": null,
            "grid_row": null,
            "max_height": null,
            "align_content": null,
            "visibility": null,
            "align_self": null,
            "height": null,
            "min_height": null,
            "padding": null,
            "grid_auto_rows": null,
            "grid_gap": null,
            "max_width": null,
            "order": null,
            "_view_module_version": "1.2.0",
            "grid_template_areas": null,
            "object_position": null,
            "object_fit": null,
            "grid_auto_columns": null,
            "margin": null,
            "display": null,
            "left": null
          }
        },
        "c551759ef4d949689567a38e3a483f90": {
          "model_module": "@jupyter-widgets/controls",
          "model_name": "DescriptionStyleModel",
          "state": {
            "_view_name": "StyleView",
            "_model_name": "DescriptionStyleModel",
            "description_width": "",
            "_view_module": "@jupyter-widgets/base",
            "_model_module_version": "1.5.0",
            "_view_count": null,
            "_view_module_version": "1.2.0",
            "_model_module": "@jupyter-widgets/controls"
          }
        },
        "26c251fe2e2c48a38fd7d1ccab488ffd": {
          "model_module": "@jupyter-widgets/base",
          "model_name": "LayoutModel",
          "state": {
            "_view_name": "LayoutView",
            "grid_template_rows": null,
            "right": null,
            "justify_content": null,
            "_view_module": "@jupyter-widgets/base",
            "overflow": null,
            "_model_module_version": "1.2.0",
            "_view_count": null,
            "flex_flow": null,
            "width": null,
            "min_width": null,
            "border": null,
            "align_items": null,
            "bottom": null,
            "_model_module": "@jupyter-widgets/base",
            "top": null,
            "grid_column": null,
            "overflow_y": null,
            "overflow_x": null,
            "grid_auto_flow": null,
            "grid_area": null,
            "grid_template_columns": null,
            "flex": null,
            "_model_name": "LayoutModel",
            "justify_items": null,
            "grid_row": null,
            "max_height": null,
            "align_content": null,
            "visibility": null,
            "align_self": null,
            "height": null,
            "min_height": null,
            "padding": null,
            "grid_auto_rows": null,
            "grid_gap": null,
            "max_width": null,
            "order": null,
            "_view_module_version": "1.2.0",
            "grid_template_areas": null,
            "object_position": null,
            "object_fit": null,
            "grid_auto_columns": null,
            "margin": null,
            "display": null,
            "left": null
          }
        },
        "d4db444c4b434b2b82ba990823b43171": {
          "model_module": "@jupyter-widgets/controls",
          "model_name": "HBoxModel",
          "state": {
            "_view_name": "HBoxView",
            "_dom_classes": [],
            "_model_name": "HBoxModel",
            "_view_module": "@jupyter-widgets/controls",
            "_model_module_version": "1.5.0",
            "_view_count": null,
            "_view_module_version": "1.5.0",
            "box_style": "",
            "layout": "IPY_MODEL_0d4a7bb0c8e34a60b05b4e82d3ac89c0",
            "_model_module": "@jupyter-widgets/controls",
            "children": [
              "IPY_MODEL_2b72b1a6fbe848b2a78e3695f20f184c",
              "IPY_MODEL_4c9b9c050a4c48deae0a008b35c1b9a6"
            ]
          }
        },
        "0d4a7bb0c8e34a60b05b4e82d3ac89c0": {
          "model_module": "@jupyter-widgets/base",
          "model_name": "LayoutModel",
          "state": {
            "_view_name": "LayoutView",
            "grid_template_rows": null,
            "right": null,
            "justify_content": null,
            "_view_module": "@jupyter-widgets/base",
            "overflow": null,
            "_model_module_version": "1.2.0",
            "_view_count": null,
            "flex_flow": null,
            "width": null,
            "min_width": null,
            "border": null,
            "align_items": null,
            "bottom": null,
            "_model_module": "@jupyter-widgets/base",
            "top": null,
            "grid_column": null,
            "overflow_y": null,
            "overflow_x": null,
            "grid_auto_flow": null,
            "grid_area": null,
            "grid_template_columns": null,
            "flex": null,
            "_model_name": "LayoutModel",
            "justify_items": null,
            "grid_row": null,
            "max_height": null,
            "align_content": null,
            "visibility": null,
            "align_self": null,
            "height": null,
            "min_height": null,
            "padding": null,
            "grid_auto_rows": null,
            "grid_gap": null,
            "max_width": null,
            "order": null,
            "_view_module_version": "1.2.0",
            "grid_template_areas": null,
            "object_position": null,
            "object_fit": null,
            "grid_auto_columns": null,
            "margin": null,
            "display": null,
            "left": null
          }
        },
        "2b72b1a6fbe848b2a78e3695f20f184c": {
          "model_module": "@jupyter-widgets/controls",
          "model_name": "FloatProgressModel",
          "state": {
            "_view_name": "ProgressView",
            "style": "IPY_MODEL_a836c966f29f4435aefb5f841bf7ac54",
            "_dom_classes": [],
            "description": "Downloading: 100%",
            "_model_name": "FloatProgressModel",
            "bar_style": "success",
            "max": 231508,
            "_view_module": "@jupyter-widgets/controls",
            "_model_module_version": "1.5.0",
            "value": 231508,
            "_view_count": null,
            "_view_module_version": "1.5.0",
            "orientation": "horizontal",
            "min": 0,
            "description_tooltip": null,
            "_model_module": "@jupyter-widgets/controls",
            "layout": "IPY_MODEL_d0a21ec7359f4de9b1f7a3862acf164b"
          }
        },
        "4c9b9c050a4c48deae0a008b35c1b9a6": {
          "model_module": "@jupyter-widgets/controls",
          "model_name": "HTMLModel",
          "state": {
            "_view_name": "HTMLView",
            "style": "IPY_MODEL_22b6694c6bf64093b033e3c8faef893d",
            "_dom_classes": [],
            "description": "",
            "_model_name": "HTMLModel",
            "placeholder": "​",
            "_view_module": "@jupyter-widgets/controls",
            "_model_module_version": "1.5.0",
            "value": " 232k/232k [00:00&lt;00:00, 833kB/s]",
            "_view_count": null,
            "_view_module_version": "1.5.0",
            "description_tooltip": null,
            "_model_module": "@jupyter-widgets/controls",
            "layout": "IPY_MODEL_0008b9a981394831b860986237448422"
          }
        },
        "a836c966f29f4435aefb5f841bf7ac54": {
          "model_module": "@jupyter-widgets/controls",
          "model_name": "ProgressStyleModel",
          "state": {
            "_view_name": "StyleView",
            "_model_name": "ProgressStyleModel",
            "description_width": "initial",
            "_view_module": "@jupyter-widgets/base",
            "_model_module_version": "1.5.0",
            "_view_count": null,
            "_view_module_version": "1.2.0",
            "bar_color": null,
            "_model_module": "@jupyter-widgets/controls"
          }
        },
        "d0a21ec7359f4de9b1f7a3862acf164b": {
          "model_module": "@jupyter-widgets/base",
          "model_name": "LayoutModel",
          "state": {
            "_view_name": "LayoutView",
            "grid_template_rows": null,
            "right": null,
            "justify_content": null,
            "_view_module": "@jupyter-widgets/base",
            "overflow": null,
            "_model_module_version": "1.2.0",
            "_view_count": null,
            "flex_flow": null,
            "width": null,
            "min_width": null,
            "border": null,
            "align_items": null,
            "bottom": null,
            "_model_module": "@jupyter-widgets/base",
            "top": null,
            "grid_column": null,
            "overflow_y": null,
            "overflow_x": null,
            "grid_auto_flow": null,
            "grid_area": null,
            "grid_template_columns": null,
            "flex": null,
            "_model_name": "LayoutModel",
            "justify_items": null,
            "grid_row": null,
            "max_height": null,
            "align_content": null,
            "visibility": null,
            "align_self": null,
            "height": null,
            "min_height": null,
            "padding": null,
            "grid_auto_rows": null,
            "grid_gap": null,
            "max_width": null,
            "order": null,
            "_view_module_version": "1.2.0",
            "grid_template_areas": null,
            "object_position": null,
            "object_fit": null,
            "grid_auto_columns": null,
            "margin": null,
            "display": null,
            "left": null
          }
        },
        "22b6694c6bf64093b033e3c8faef893d": {
          "model_module": "@jupyter-widgets/controls",
          "model_name": "DescriptionStyleModel",
          "state": {
            "_view_name": "StyleView",
            "_model_name": "DescriptionStyleModel",
            "description_width": "",
            "_view_module": "@jupyter-widgets/base",
            "_model_module_version": "1.5.0",
            "_view_count": null,
            "_view_module_version": "1.2.0",
            "_model_module": "@jupyter-widgets/controls"
          }
        },
        "0008b9a981394831b860986237448422": {
          "model_module": "@jupyter-widgets/base",
          "model_name": "LayoutModel",
          "state": {
            "_view_name": "LayoutView",
            "grid_template_rows": null,
            "right": null,
            "justify_content": null,
            "_view_module": "@jupyter-widgets/base",
            "overflow": null,
            "_model_module_version": "1.2.0",
            "_view_count": null,
            "flex_flow": null,
            "width": null,
            "min_width": null,
            "border": null,
            "align_items": null,
            "bottom": null,
            "_model_module": "@jupyter-widgets/base",
            "top": null,
            "grid_column": null,
            "overflow_y": null,
            "overflow_x": null,
            "grid_auto_flow": null,
            "grid_area": null,
            "grid_template_columns": null,
            "flex": null,
            "_model_name": "LayoutModel",
            "justify_items": null,
            "grid_row": null,
            "max_height": null,
            "align_content": null,
            "visibility": null,
            "align_self": null,
            "height": null,
            "min_height": null,
            "padding": null,
            "grid_auto_rows": null,
            "grid_gap": null,
            "max_width": null,
            "order": null,
            "_view_module_version": "1.2.0",
            "grid_template_areas": null,
            "object_position": null,
            "object_fit": null,
            "grid_auto_columns": null,
            "margin": null,
            "display": null,
            "left": null
          }
        }
      }
    }
  },
  "cells": [
    {
      "cell_type": "code",
      "metadata": {
        "id": "7jL3PWw14Y5w",
        "colab_type": "code",
        "colab": {
          "base_uri": "https://localhost:8080/",
          "height": 124
        },
        "outputId": "74ae4dfd-5812-4c4f-da1a-ef6cb12637cb"
      },
      "source": [
        "from google.colab import drive\n",
        "drive.mount('/content/drive')"
      ],
      "execution_count": 1,
      "outputs": [
        {
          "output_type": "stream",
          "text": [
            "Go to this URL in a browser: https://accounts.google.com/o/oauth2/auth?client_id=947318989803-6bn6qk8qdgf4n4g3pfee6491hc0brc4i.apps.googleusercontent.com&redirect_uri=urn%3aietf%3awg%3aoauth%3a2.0%3aoob&response_type=code&scope=email%20https%3a%2f%2fwww.googleapis.com%2fauth%2fdocs.test%20https%3a%2f%2fwww.googleapis.com%2fauth%2fdrive%20https%3a%2f%2fwww.googleapis.com%2fauth%2fdrive.photos.readonly%20https%3a%2f%2fwww.googleapis.com%2fauth%2fpeopleapi.readonly\n",
            "\n",
            "Enter your authorization code:\n",
            "··········\n",
            "Mounted at /content/drive\n"
          ],
          "name": "stdout"
        }
      ]
    },
    {
      "cell_type": "code",
      "metadata": {
        "id": "gHG0pQRc_gDj",
        "colab_type": "code",
        "colab": {}
      },
      "source": [
        "!pip install rank_bm25 -q\n",
        "\n",
        "import numpy as np\n",
        "import pandas as pd \n",
        "from pathlib import Path, PurePath\n",
        "\n",
        "import nltk\n",
        "from nltk.corpus import stopwords\n",
        "import re\n",
        "import string\n",
        "import torch\n",
        "\n",
        "from rank_bm25 import BM25Okapi # Search engine"
      ],
      "execution_count": 0,
      "outputs": []
    },
    {
      "cell_type": "code",
      "metadata": {
        "id": "3LjLmU2s7YZq",
        "colab_type": "code",
        "colab": {}
      },
      "source": [
        "input_dir = PurePath('/content/drive/My Drive/Colab Notebooks/metadata.csv')\n",
        "metadata_df = pd.read_csv(input_dir, low_memory=False)\n",
        "metadata_df = metadata_df.dropna(subset=['abstract', 'title']) \\\n",
        "                            .reset_index(drop=True)"
      ],
      "execution_count": 0,
      "outputs": []
    },
    {
      "cell_type": "code",
      "metadata": {
        "id": "ZH6XcZjx-iqk",
        "colab_type": "code",
        "colab": {
          "base_uri": "https://localhost:8080/",
          "height": 104
        },
        "outputId": "db503903-24ff-4f21-d434-37523fa4a6f6"
      },
      "source": [
        "nltk.download('stopwords')\n",
        "nltk.download('punkt')"
      ],
      "execution_count": 4,
      "outputs": [
        {
          "output_type": "stream",
          "text": [
            "[nltk_data] Downloading package stopwords to /root/nltk_data...\n",
            "[nltk_data]   Unzipping corpora/stopwords.zip.\n",
            "[nltk_data] Downloading package punkt to /root/nltk_data...\n",
            "[nltk_data]   Unzipping tokenizers/punkt.zip.\n"
          ],
          "name": "stdout"
        },
        {
          "output_type": "execute_result",
          "data": {
            "text/plain": [
              "True"
            ]
          },
          "metadata": {
            "tags": []
          },
          "execution_count": 4
        }
      ]
    },
    {
      "cell_type": "code",
      "metadata": {
        "trusted": true,
        "id": "Ty9kL-b9jqQ4",
        "colab_type": "code",
        "colab": {}
      },
      "source": [
        "from rank_bm25 import BM25Okapi\n",
        "\n",
        "english_stopwords = list(set(stopwords.words('english')))\n",
        "\n",
        "class CovidSearchEngine:\n",
        "    \n",
        "    def remove_special_character(self, text):\n",
        "        #Remove special characters from text string\n",
        "        return text.translate(str.maketrans('', '', string.punctuation))\n",
        "\n",
        "    def tokenize(self, text):\n",
        "        # tokenize text\n",
        "        words = nltk.word_tokenize(text)\n",
        "        return list(set([word for word in words \n",
        "                         if len(word) > 1\n",
        "                         and not word in english_stopwords\n",
        "                         and not word.isnumeric() \n",
        "                        ])\n",
        "                   )\n",
        "    \n",
        "    def preprocess(self, text):\n",
        "        # Clean and tokenize text input\n",
        "        return self.tokenize(self.remove_special_character(text.lower()))\n",
        "\n",
        "\n",
        "    def __init__(self, corpus: pd.DataFrame):\n",
        "        self.corpus = corpus\n",
        "        self.columns = corpus.columns\n",
        "        \n",
        "        raw_search_str = self.corpus.abstract.fillna('') + ' ' \\\n",
        "                            + self.corpus.title.fillna('')\n",
        "        \n",
        "        self.index = raw_search_str.apply(self.preprocess).to_frame()\n",
        "        self.index.columns = ['terms']\n",
        "        self.index.index = self.corpus.index\n",
        "        self.bm25 = BM25Okapi(self.index.terms.tolist())\n",
        "    \n",
        "    def search(self, query, num):\n",
        "        # obtain scores\n",
        "        search_terms = self.preprocess(query) \n",
        "        doc_scores = self.bm25.get_scores(search_terms)\n",
        "        \n",
        "        # sort by scores\n",
        "        ind = np.argsort(doc_scores)[::-1][:num] \n",
        "        \n",
        "        # select top results and returns\n",
        "        results = self.corpus.iloc[ind][self.columns]\n",
        "        results['score'] = doc_scores[ind]\n",
        "        results = results[results.score > 0]\n",
        "        return results.reset_index()"
      ],
      "execution_count": 0,
      "outputs": []
    },
    {
      "cell_type": "code",
      "metadata": {
        "trusted": true,
        "id": "4UozdosjjqQ7",
        "colab_type": "code",
        "colab": {}
      },
      "source": [
        "cse = CovidSearchEngine(metadata_df)"
      ],
      "execution_count": 0,
      "outputs": []
    },
    {
      "cell_type": "code",
      "metadata": {
        "id": "K3dJNebuBy-g",
        "colab_type": "code",
        "colab": {
          "base_uri": "https://localhost:8080/",
          "height": 419
        },
        "outputId": "6ad0e520-5976-45c0-99cc-f533864bb05a"
      },
      "source": [
        "!pip install pytorch-pretrained-bert"
      ],
      "execution_count": 15,
      "outputs": [
        {
          "output_type": "stream",
          "text": [
            "Collecting pytorch-pretrained-bert\n",
            "\u001b[?25l  Downloading https://files.pythonhosted.org/packages/d7/e0/c08d5553b89973d9a240605b9c12404bcf8227590de62bae27acbcfe076b/pytorch_pretrained_bert-0.6.2-py3-none-any.whl (123kB)\n",
            "\r\u001b[K     |██▋                             | 10kB 28.7MB/s eta 0:00:01\r\u001b[K     |█████▎                          | 20kB 2.9MB/s eta 0:00:01\r\u001b[K     |████████                        | 30kB 3.8MB/s eta 0:00:01\r\u001b[K     |██████████▋                     | 40kB 4.2MB/s eta 0:00:01\r\u001b[K     |█████████████▎                  | 51kB 3.4MB/s eta 0:00:01\r\u001b[K     |███████████████▉                | 61kB 3.8MB/s eta 0:00:01\r\u001b[K     |██████████████████▌             | 71kB 4.1MB/s eta 0:00:01\r\u001b[K     |█████████████████████▏          | 81kB 4.4MB/s eta 0:00:01\r\u001b[K     |███████████████████████▉        | 92kB 4.8MB/s eta 0:00:01\r\u001b[K     |██████████████████████████▌     | 102kB 4.5MB/s eta 0:00:01\r\u001b[K     |█████████████████████████████▏  | 112kB 4.5MB/s eta 0:00:01\r\u001b[K     |███████████████████████████████▊| 122kB 4.5MB/s eta 0:00:01\r\u001b[K     |████████████████████████████████| 133kB 4.5MB/s \n",
            "\u001b[?25hRequirement already satisfied: numpy in /usr/local/lib/python3.6/dist-packages (from pytorch-pretrained-bert) (1.18.4)\n",
            "Requirement already satisfied: torch>=0.4.1 in /usr/local/lib/python3.6/dist-packages (from pytorch-pretrained-bert) (1.5.0+cu101)\n",
            "Requirement already satisfied: boto3 in /usr/local/lib/python3.6/dist-packages (from pytorch-pretrained-bert) (1.13.19)\n",
            "Requirement already satisfied: requests in /usr/local/lib/python3.6/dist-packages (from pytorch-pretrained-bert) (2.23.0)\n",
            "Requirement already satisfied: tqdm in /usr/local/lib/python3.6/dist-packages (from pytorch-pretrained-bert) (4.41.1)\n",
            "Requirement already satisfied: regex in /usr/local/lib/python3.6/dist-packages (from pytorch-pretrained-bert) (2019.12.20)\n",
            "Requirement already satisfied: future in /usr/local/lib/python3.6/dist-packages (from torch>=0.4.1->pytorch-pretrained-bert) (0.16.0)\n",
            "Requirement already satisfied: botocore<1.17.0,>=1.16.19 in /usr/local/lib/python3.6/dist-packages (from boto3->pytorch-pretrained-bert) (1.16.19)\n",
            "Requirement already satisfied: s3transfer<0.4.0,>=0.3.0 in /usr/local/lib/python3.6/dist-packages (from boto3->pytorch-pretrained-bert) (0.3.3)\n",
            "Requirement already satisfied: jmespath<1.0.0,>=0.7.1 in /usr/local/lib/python3.6/dist-packages (from boto3->pytorch-pretrained-bert) (0.10.0)\n",
            "Requirement already satisfied: chardet<4,>=3.0.2 in /usr/local/lib/python3.6/dist-packages (from requests->pytorch-pretrained-bert) (3.0.4)\n",
            "Requirement already satisfied: urllib3!=1.25.0,!=1.25.1,<1.26,>=1.21.1 in /usr/local/lib/python3.6/dist-packages (from requests->pytorch-pretrained-bert) (1.24.3)\n",
            "Requirement already satisfied: certifi>=2017.4.17 in /usr/local/lib/python3.6/dist-packages (from requests->pytorch-pretrained-bert) (2020.4.5.1)\n",
            "Requirement already satisfied: idna<3,>=2.5 in /usr/local/lib/python3.6/dist-packages (from requests->pytorch-pretrained-bert) (2.9)\n",
            "Requirement already satisfied: docutils<0.16,>=0.10 in /usr/local/lib/python3.6/dist-packages (from botocore<1.17.0,>=1.16.19->boto3->pytorch-pretrained-bert) (0.15.2)\n",
            "Requirement already satisfied: python-dateutil<3.0.0,>=2.1 in /usr/local/lib/python3.6/dist-packages (from botocore<1.17.0,>=1.16.19->boto3->pytorch-pretrained-bert) (2.8.1)\n",
            "Requirement already satisfied: six>=1.5 in /usr/local/lib/python3.6/dist-packages (from python-dateutil<3.0.0,>=2.1->botocore<1.17.0,>=1.16.19->boto3->pytorch-pretrained-bert) (1.12.0)\n",
            "Installing collected packages: pytorch-pretrained-bert\n",
            "Successfully installed pytorch-pretrained-bert-0.6.2\n"
          ],
          "name": "stdout"
        }
      ]
    },
    {
      "cell_type": "code",
      "metadata": {
        "id": "mgHsBkcqB36T",
        "colab_type": "code",
        "colab": {
          "base_uri": "https://localhost:8080/",
          "height": 367
        },
        "outputId": "c3e0eed5-b620-4cfc-8e0e-4597553b805f"
      },
      "source": [
        "!pip install transformers"
      ],
      "execution_count": 17,
      "outputs": [
        {
          "output_type": "stream",
          "text": [
            "Requirement already satisfied: transformers in /usr/local/lib/python3.6/dist-packages (2.11.0)\n",
            "Requirement already satisfied: sacremoses in /usr/local/lib/python3.6/dist-packages (from transformers) (0.0.43)\n",
            "Requirement already satisfied: dataclasses; python_version < \"3.7\" in /usr/local/lib/python3.6/dist-packages (from transformers) (0.7)\n",
            "Requirement already satisfied: filelock in /usr/local/lib/python3.6/dist-packages (from transformers) (3.0.12)\n",
            "Requirement already satisfied: packaging in /usr/local/lib/python3.6/dist-packages (from transformers) (20.4)\n",
            "Requirement already satisfied: tqdm>=4.27 in /usr/local/lib/python3.6/dist-packages (from transformers) (4.41.1)\n",
            "Requirement already satisfied: numpy in /usr/local/lib/python3.6/dist-packages (from transformers) (1.18.4)\n",
            "Requirement already satisfied: tokenizers==0.7.0 in /usr/local/lib/python3.6/dist-packages (from transformers) (0.7.0)\n",
            "Requirement already satisfied: sentencepiece in /usr/local/lib/python3.6/dist-packages (from transformers) (0.1.91)\n",
            "Requirement already satisfied: regex!=2019.12.17 in /usr/local/lib/python3.6/dist-packages (from transformers) (2019.12.20)\n",
            "Requirement already satisfied: requests in /usr/local/lib/python3.6/dist-packages (from transformers) (2.23.0)\n",
            "Requirement already satisfied: click in /usr/local/lib/python3.6/dist-packages (from sacremoses->transformers) (7.1.2)\n",
            "Requirement already satisfied: joblib in /usr/local/lib/python3.6/dist-packages (from sacremoses->transformers) (0.15.1)\n",
            "Requirement already satisfied: six in /usr/local/lib/python3.6/dist-packages (from sacremoses->transformers) (1.12.0)\n",
            "Requirement already satisfied: pyparsing>=2.0.2 in /usr/local/lib/python3.6/dist-packages (from packaging->transformers) (2.4.7)\n",
            "Requirement already satisfied: certifi>=2017.4.17 in /usr/local/lib/python3.6/dist-packages (from requests->transformers) (2020.4.5.1)\n",
            "Requirement already satisfied: urllib3!=1.25.0,!=1.25.1,<1.26,>=1.21.1 in /usr/local/lib/python3.6/dist-packages (from requests->transformers) (1.24.3)\n",
            "Requirement already satisfied: idna<3,>=2.5 in /usr/local/lib/python3.6/dist-packages (from requests->transformers) (2.9)\n",
            "Requirement already satisfied: chardet<4,>=3.0.2 in /usr/local/lib/python3.6/dist-packages (from requests->transformers) (3.0.4)\n"
          ],
          "name": "stdout"
        }
      ]
    },
    {
      "cell_type": "code",
      "metadata": {
        "trusted": true,
        "id": "JBNazrpIjqRD",
        "colab_type": "code",
        "colab": {
          "base_uri": "https://localhost:8080/",
          "height": 183,
          "referenced_widgets": [
            "053c240e37e347ba8e516fc0eeba6809",
            "62592f52d2514195aa4146040746b438",
            "f9e01853226645af8019a53c241b6819",
            "d0149ab872444975bf8a0c7f46cbb0ae",
            "21fa57a25b7c4d4f92450d3f8e494dd2",
            "f40cb01354d64a73b68f7e6501695734",
            "25128ac44d524bb196fe9c73f0223810",
            "d5e32343d0a243e3bd7a2d10e551c13b",
            "02cd587de1264258aa20337c67b1156c",
            "0426816c42cc4a21b6281d82d1e0feb6",
            "b58050fca6fa4c0391d44b4ff718f68f",
            "541f565c3f7142b5a608d5d91208f105",
            "696c4c900fe54fb1bf546e986e25c557",
            "83c33fa947fc49a492ebd5b31fc86b16",
            "c551759ef4d949689567a38e3a483f90",
            "26c251fe2e2c48a38fd7d1ccab488ffd",
            "d4db444c4b434b2b82ba990823b43171",
            "0d4a7bb0c8e34a60b05b4e82d3ac89c0",
            "2b72b1a6fbe848b2a78e3695f20f184c",
            "4c9b9c050a4c48deae0a008b35c1b9a6",
            "a836c966f29f4435aefb5f841bf7ac54",
            "d0a21ec7359f4de9b1f7a3862acf164b",
            "22b6694c6bf64093b033e3c8faef893d",
            "0008b9a981394831b860986237448422"
          ]
        },
        "outputId": "02db4c1c-3e89-47d1-936e-5a1ad3de9234"
      },
      "source": [
        "import torch\n",
        "from transformers import BertTokenizer\n",
        "from transformers import BertForQuestionAnswering\n",
        "\n",
        "torch_device = 'cuda' if torch.cuda.is_available() else 'cpu'\n",
        "\n",
        "BERT_SQUAD = 'bert-large-uncased-whole-word-masking-finetuned-squad'\n",
        "\n",
        "model = BertForQuestionAnswering.from_pretrained(BERT_SQUAD)\n",
        "tokenizer = BertTokenizer.from_pretrained(BERT_SQUAD)\n",
        "\n",
        "model = model.to(torch_device)\n",
        "model.eval()\n",
        "\n",
        "print()"
      ],
      "execution_count": 18,
      "outputs": [
        {
          "output_type": "display_data",
          "data": {
            "application/vnd.jupyter.widget-view+json": {
              "model_id": "053c240e37e347ba8e516fc0eeba6809",
              "version_minor": 0,
              "version_major": 2
            },
            "text/plain": [
              "HBox(children=(FloatProgress(value=0.0, description='Downloading', max=443.0, style=ProgressStyle(description_…"
            ]
          },
          "metadata": {
            "tags": []
          }
        },
        {
          "output_type": "stream",
          "text": [
            "\n"
          ],
          "name": "stdout"
        },
        {
          "output_type": "display_data",
          "data": {
            "application/vnd.jupyter.widget-view+json": {
              "model_id": "02cd587de1264258aa20337c67b1156c",
              "version_minor": 0,
              "version_major": 2
            },
            "text/plain": [
              "HBox(children=(FloatProgress(value=0.0, description='Downloading', max=1340675298.0, style=ProgressStyle(descr…"
            ]
          },
          "metadata": {
            "tags": []
          }
        },
        {
          "output_type": "stream",
          "text": [
            "\n"
          ],
          "name": "stdout"
        },
        {
          "output_type": "display_data",
          "data": {
            "application/vnd.jupyter.widget-view+json": {
              "model_id": "d4db444c4b434b2b82ba990823b43171",
              "version_minor": 0,
              "version_major": 2
            },
            "text/plain": [
              "HBox(children=(FloatProgress(value=0.0, description='Downloading', max=231508.0, style=ProgressStyle(descripti…"
            ]
          },
          "metadata": {
            "tags": []
          }
        },
        {
          "output_type": "stream",
          "text": [
            "\n",
            "\n"
          ],
          "name": "stdout"
        }
      ]
    },
    {
      "cell_type": "code",
      "metadata": {
        "trusted": true,
        "id": "JPL6Aw_1jqRI",
        "colab_type": "code",
        "colab": {}
      },
      "source": [
        "def answer_question(question, context):\n",
        "    # anser question given question and context\n",
        "    encoded_dict = tokenizer.encode_plus(\n",
        "                        question, context,\n",
        "                        add_special_tokens = True,\n",
        "                        max_length = 256,\n",
        "                        pad_to_max_length = True,\n",
        "                        return_tensors = 'pt'\n",
        "                   )\n",
        "    \n",
        "    input_ids = encoded_dict['input_ids'].to(torch_device)\n",
        "    token_type_ids = encoded_dict['token_type_ids'].to(torch_device)\n",
        "    \n",
        "    start_scores, end_scores = model(input_ids, token_type_ids=token_type_ids)\n",
        "\n",
        "    all_tokens = tokenizer.convert_ids_to_tokens(input_ids[0])\n",
        "    start_index = torch.argmax(start_scores)\n",
        "    end_index = torch.argmax(end_scores)\n",
        "    \n",
        "    answer = tokenizer.convert_tokens_to_string(all_tokens[start_index:end_index+1])\n",
        "    answer = answer.replace('[CLS]', '')\n",
        "    return answer"
      ],
      "execution_count": 0,
      "outputs": []
    },
    {
      "cell_type": "code",
      "metadata": {
        "trusted": true,
        "id": "KZmztrS6jqRM",
        "colab_type": "code",
        "colab": {}
      },
      "source": [
        "covid_kaggle_questions = {\n",
        "\"data\":[\n",
        "          {\n",
        "              \"task\": \"What is known about transmission, incubation, and environmental stability?\",\n",
        "              \"questions\": [\n",
        "                  \"Is the virus transmitted by aerisol, droplets, food, close contact, fecal matter, or water?\",\n",
        "                  \"How long is the incubation period for the virus?\",\n",
        "                  \"Can the virus be transmitted asymptomatically or during the incubation period?\",\n",
        "                  \"How does weather, heat, and humidity affect the tramsmission of 2019-nCoV?\",\n",
        "                  \"How long can the 2019-nCoV virus remain viable on common surfaces?\"\n",
        "              ]\n",
        "          },\n",
        "          {\n",
        "              \"task\": \"What do we know about COVID-19 risk factors?\",\n",
        "              \"questions\": [\n",
        "                  \"What risk factors contribute to the severity of 2019-nCoV?\",\n",
        "                  \"How does hypertension affect patients?\",\n",
        "                  \"How does heart disease affect patients?\",\n",
        "                  \"How does copd affect patients?\",\n",
        "                  \"How does smoking affect patients?\",\n",
        "                  \"How does pregnancy affect patients?\",\n",
        "                  \"What is the fatality rate of 2019-nCoV?\",\n",
        "                  \"What public health policies prevent or control the spread of 2019-nCoV?\"\n",
        "              ]\n",
        "          },\n",
        "          {\n",
        "              \"task\": \"What do we know about virus genetics, origin, and evolution?\",\n",
        "              \"questions\": [\n",
        "                  \"Can animals transmit 2019-nCoV?\",\n",
        "                  \"What animal did 2019-nCoV come from?\",\n",
        "                  \"What real-time genomic tracking tools exist?\",\n",
        "                  \"What geographic variations are there in the genome of 2019-nCoV?\",\n",
        "                  \"What effors are being done in asia to prevent further outbreaks?\"\n",
        "              ]\n",
        "          },\n",
        "          {\n",
        "              \"task\": \"What do we know about vaccines and therapeutics?\",\n",
        "              \"questions\": [\n",
        "                  \"What drugs or therapies are being investigated?\",\n",
        "                  \"Are anti-inflammatory drugs recommended?\"\n",
        "              ]\n",
        "          },\n",
        "          {\n",
        "              \"task\": \"What do we know about non-pharmaceutical interventions?\",\n",
        "              \"questions\": [\n",
        "                  \"Which non-pharmaceutical interventions limit tramsission?\",\n",
        "                  \"What are most important barriers to compliance?\"\n",
        "              ]\n",
        "          },\n",
        "          {\n",
        "              \"task\": \"What has been published about medical care?\",\n",
        "              \"questions\": [\n",
        "                  \"How does extracorporeal membrane oxygenation affect 2019-nCoV patients?\",\n",
        "                  \"What telemedicine and cybercare methods are most effective?\",\n",
        "                  \"How is artificial intelligence being used in real time health delivery?\",\n",
        "                  \"What adjunctive or supportive methods can help patients?\"\n",
        "              ]\n",
        "          },\n",
        "          {\n",
        "              \"task\": \"What do we know about diagnostics and surveillance?\",\n",
        "              \"questions\": [\n",
        "                  \"What diagnostic tests (tools) exist or are being developed to detect 2019-nCoV?\"\n",
        "              ]\n",
        "          },\n",
        "          {\n",
        "              \"task\": \"Other interesting questions\",\n",
        "              \"questions\": [\n",
        "                  \"What is the immune system response to 2019-nCoV?\",\n",
        "                  \"Can personal protective equipment prevent the transmission of 2019-nCoV?\",\n",
        "                  \"Can 2019-nCoV infect patients a second time?\"\n",
        "              ]\n",
        "          }\n",
        "   ]\n",
        "}"
      ],
      "execution_count": 0,
      "outputs": []
    },
    {
      "cell_type": "code",
      "metadata": {
        "trusted": true,
        "id": "-6xHLHzQjqRS",
        "colab_type": "code",
        "colab": {}
      },
      "source": [
        "NUM_CONTEXT_FOR_EACH_QUESTION = 10\n",
        "\n",
        "\n",
        "def get_all_context(query, num_results):\n",
        "    # Return ^num_results' papers that better match the query\n",
        "    \n",
        "    papers_df = cse.search(query, num_results)\n",
        "    return papers_df['abstract'].str.replace(\"Abstract\", \"\").tolist()\n",
        "\n",
        "\n",
        "def get_all_answers(question, all_contexts):\n",
        "    # Ask the same question to all contexts (all papers)\n",
        "    \n",
        "    all_answers = []\n",
        "    \n",
        "    for context in all_contexts:\n",
        "        all_answers.append(answer_question(question, context))\n",
        "    return all_answers\n",
        "\n",
        "\n",
        "def create_output_results(question, \n",
        "                          all_contexts, \n",
        "                          all_answers, \n",
        "                          summary_answer='', \n",
        "                          summary_context=''):\n",
        "    # Return results in json format\n",
        "    \n",
        "    def find_start_end_index_substring(context, answer):   \n",
        "        search_re = re.search(re.escape(answer.lower()), context.lower())\n",
        "        if search_re:\n",
        "            return search_re.start(), search_re.end()\n",
        "        else:\n",
        "            return 0, len(context)\n",
        "        \n",
        "    output = {}\n",
        "    output['question'] = question\n",
        "    output['summary_answer'] = summary_answer\n",
        "    output['summary_context'] = summary_context\n",
        "    results = []\n",
        "    for c, a in zip(all_contexts, all_answers):\n",
        "\n",
        "        span = {}\n",
        "        span['context'] = c\n",
        "        span['answer'] = a\n",
        "        span['start_index'], span['end_index'] = find_start_end_index_substring(c,a)\n",
        "\n",
        "        results.append(span)\n",
        "    \n",
        "    output['results'] = results\n",
        "        \n",
        "    return output\n",
        "\n",
        "    \n",
        "def get_results(question, \n",
        "                summarize=False, \n",
        "                num_results=NUM_CONTEXT_FOR_EACH_QUESTION,\n",
        "                verbose=True):\n",
        "    # Get results\n",
        "\n",
        "    all_contexts = get_all_context(question, num_results)\n",
        "    \n",
        "    all_answers = get_all_answers(question, all_contexts)\n",
        "    \n",
        "    if summarize:\n",
        "        # NotImplementedYet\n",
        "        summary_answer = get_summary(all_answers)\n",
        "        summary_context = get_summary(all_contexts)\n",
        "    \n",
        "    return create_output_results(question, \n",
        "                                 all_contexts, \n",
        "                                 all_answers)"
      ],
      "execution_count": 0,
      "outputs": []
    },
    {
      "cell_type": "code",
      "metadata": {
        "trusted": true,
        "id": "UXNLkgnTjqRZ",
        "colab_type": "code",
        "colab": {}
      },
      "source": [
        "all_tasks = []\n",
        "\n",
        "for i, t in enumerate(covid_kaggle_questions['data']):\n",
        "    print(\"Answering questions to task {}. ...\".format(i+1))\n",
        "    answers_to_question = []\n",
        "    for q in t['questions']:\n",
        "            answers_to_question.append(get_results(q, verbose=False))\n",
        "    task = {}\n",
        "    task['task'] = t['task']\n",
        "    task['questions'] = answers_to_question\n",
        "    \n",
        "    all_tasks.append(task)\n",
        "\n",
        "all_answers = {}\n",
        "all_answers['data'] = all_tasks"
      ],
      "execution_count": 0,
      "outputs": []
    },
    {
      "cell_type": "code",
      "metadata": {
        "id": "-0CsgigEEzZ0",
        "colab_type": "code",
        "colab": {}
      },
      "source": [
        "display(all_answers)"
      ],
      "execution_count": 0,
      "outputs": []
    },
    {
      "cell_type": "code",
      "metadata": {
        "id": "TN8vkVQdEjnp",
        "colab_type": "code",
        "colab": {}
      },
      "source": [
        ""
      ],
      "execution_count": 0,
      "outputs": []
    }
  ]
}