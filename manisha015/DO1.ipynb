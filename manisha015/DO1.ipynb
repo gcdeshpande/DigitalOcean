{
 "cells": [
  {
   "cell_type": "code",
   "execution_count": 26,
   "metadata": {},
   "outputs": [],
   "source": [
    "import nltk\n",
    "import pandas as pd\n",
    "import numpy as np"
   ]
  },
  {
   "cell_type": "code",
   "execution_count": 33,
   "metadata": {},
   "outputs": [],
   "source": [
    "df=pd.read_csv('metadata.csv')"
   ]
  },
  {
   "cell_type": "code",
   "execution_count": 24,
   "metadata": {},
   "outputs": [],
   "source": [
    "filtered=df.drop(df[df['abstract'].isnull()].index)"
   ]
  },
  {
   "cell_type": "code",
   "execution_count": 35,
   "metadata": {},
   "outputs": [],
   "source": [
    "filtered.reset_index(drop=True,inplace=True)"
   ]
  },
  {
   "cell_type": "code",
   "execution_count": 36,
   "metadata": {},
   "outputs": [
    {
     "data": {
      "text/plain": [
       "'The term \"Geographic Information Systems\" (GIS) has been added to MeSH in 2003, a step reflecting the importance and growing use of GIS in health and healthcare research and practices. GIS have much more to offer than the obvious digital cartography (map) functions. From a community health perspective, GIS could potentially act as powerful evidence-based practice tools for early problem detection and solving. When properly used, GIS can: inform and educate (professionals and the public); empower decision-making at all levels; help in planning and tweaking clinically and cost-effective actions, in predicting outcomes before making any financial commitments and ascribing priorities in a climate of finite resources; change practices; and continually monitor and analyse changes, as well as sentinel events. Yet despite all these potentials for GIS, they remain under-utilised in the UK National Health Service (NHS). This paper has the following objectives: (1) to illustrate with practical, real-world scenarios and examples from the literature the different GIS methods and uses to improve community health and healthcare practices, e.g., for improving hospital bed availability, in community health and bioterrorism surveillance services, and in the latest SARS outbreak; (2) to discuss challenges and problems currently hindering the wide-scale adoption of GIS across the NHS; and (3) to identify the most important requirements and ingredients for addressing these challenges, and realising GIS potential within the NHS, guided by related initiatives worldwide. The ultimate goal is to illuminate the road towards implementing a comprehensive national, multi-agency spatio-temporal health information infrastructure functioning proactively in real time. The concepts and principles presented in this paper can be also applied in other countries, and on regional (e.g., European Union) and global levels.'"
      ]
     },
     "execution_count": 36,
     "metadata": {},
     "output_type": "execute_result"
    }
   ],
   "source": [
    "filtered['abstract'][31]"
   ]
  },
  {
   "cell_type": "code",
   "execution_count": 38,
   "metadata": {},
   "outputs": [],
   "source": [
    "from nltk.tokenize import sent_tokenize"
   ]
  },
  {
   "cell_type": "code",
   "execution_count": 39,
   "metadata": {},
   "outputs": [],
   "source": [
    "#tokenize text\n",
    "sentences=[]\n",
    "\n",
    "for i in range (0,80):\n",
    "    sentences.append(sent_tokenize(filtered['abstract'][i]))"
   ]
  },
  {
   "cell_type": "code",
   "execution_count": 40,
   "metadata": {},
   "outputs": [],
   "source": [
    "sentences=[y for x in sentences for y in x]"
   ]
  },
  {
   "cell_type": "code",
   "execution_count": 41,
   "metadata": {},
   "outputs": [],
   "source": [
    "#clean text\n",
    "clean_sentences= pd.Series(sentences).str.replace(\"[^a-zA-Z]\",\" \")\n",
    "\n",
    "#make sentences in lowercase\n",
    "clean_sentences=[s.lower() for s in clean_sentences]"
   ]
  },
  {
   "cell_type": "code",
   "execution_count": 42,
   "metadata": {},
   "outputs": [
    {
     "data": {
      "text/plain": [
       "['objective  this retrospective chart review describes the epidemiology and clinical features of    patients with culture proven mycoplasma pneumoniae infections at king abdulaziz university hospital  jeddah  saudi arabia ',\n",
       " 'methods  patients with positive m  pneumoniae cultures from respiratory specimens from january      through december      were identified through the microbiology records ',\n",
       " 'charts of patients were reviewed ',\n",
       " 'results     patients were identified             of whom required admission ',\n",
       " 'most infections         were community acquired ']"
      ]
     },
     "execution_count": 42,
     "metadata": {},
     "output_type": "execute_result"
    }
   ],
   "source": [
    "clean_sentences[:5]"
   ]
  },
  {
   "cell_type": "code",
   "execution_count": 43,
   "metadata": {},
   "outputs": [
    {
     "name": "stderr",
     "output_type": "stream",
     "text": [
      "[nltk_data] Downloading package stopwords to\n",
      "[nltk_data]     C:\\Users\\win10\\AppData\\Roaming\\nltk_data...\n",
      "[nltk_data]   Package stopwords is already up-to-date!\n"
     ]
    },
    {
     "data": {
      "text/plain": [
       "True"
      ]
     },
     "execution_count": 43,
     "metadata": {},
     "output_type": "execute_result"
    }
   ],
   "source": [
    "nltk.download('stopwords')"
   ]
  },
  {
   "cell_type": "code",
   "execution_count": 44,
   "metadata": {},
   "outputs": [],
   "source": [
    "from nltk.corpus import stopwords\n",
    "stop_words=stopwords.words('english')"
   ]
  },
  {
   "cell_type": "code",
   "execution_count": 45,
   "metadata": {},
   "outputs": [],
   "source": [
    "#remove stop words\n",
    "def remove_stopwords(sen):\n",
    "    sen_new=\" \".join([i for i in sen if i not in stop_words])\n",
    "    return sen_new"
   ]
  },
  {
   "cell_type": "code",
   "execution_count": 46,
   "metadata": {},
   "outputs": [],
   "source": [
    "clean_sentences=[remove_stopwords(r.split()) for r in clean_sentences]"
   ]
  },
  {
   "cell_type": "code",
   "execution_count": 47,
   "metadata": {},
   "outputs": [],
   "source": [
    "word_embeddings={}\n",
    "f=open('glove.6B.100d.txt',encoding='utf-8')\n",
    "for line in f:\n",
    "    values=line.split()\n",
    "    words=values[0]\n",
    "    coefs= np.asarray(values[1:],dtype='float32')\n",
    "    word_embeddings[words]=coefs\n",
    "f.close()"
   ]
  },
  {
   "cell_type": "code",
   "execution_count": 48,
   "metadata": {},
   "outputs": [],
   "source": [
    "sentence_vectors=[]\n",
    "for i in clean_sentences:\n",
    "    if len(i)!=0:\n",
    "        v = sum([word_embeddings.get(w, np.zeros((100,))) for w in i.split()])/(len(i.split())+0.002)\n",
    "    else:\n",
    "        v = np.zeros((100,))\n",
    "    sentence_vectors.append(v)"
   ]
  },
  {
   "cell_type": "code",
   "execution_count": 49,
   "metadata": {},
   "outputs": [
    {
     "data": {
      "text/plain": [
       "662"
      ]
     },
     "execution_count": 49,
     "metadata": {},
     "output_type": "execute_result"
    }
   ],
   "source": [
    "len(sentence_vectors)"
   ]
  },
  {
   "cell_type": "code",
   "execution_count": 50,
   "metadata": {},
   "outputs": [],
   "source": [
    "sim_matrix=np.zeros([len(sentences),len(sentences)])"
   ]
  },
  {
   "cell_type": "code",
   "execution_count": 51,
   "metadata": {},
   "outputs": [],
   "source": [
    "from sklearn.metrics.pairwise import cosine_similarity"
   ]
  },
  {
   "cell_type": "code",
   "execution_count": 52,
   "metadata": {},
   "outputs": [],
   "source": [
    "for i in range (len(sentences)):\n",
    "    for j in range (len(sentences)):\n",
    "        if i!=j:\n",
    "            sim_matrix[i][j]=cosine_similarity(sentence_vectors[i].reshape(1,100),sentence_vectors[j].reshape(1,100))[0][0]"
   ]
  },
  {
   "cell_type": "code",
   "execution_count": 53,
   "metadata": {},
   "outputs": [],
   "source": [
    "import networkx as nx"
   ]
  },
  {
   "cell_type": "code",
   "execution_count": 54,
   "metadata": {},
   "outputs": [],
   "source": [
    "nx_graph=nx.from_numpy_array(sim_matrix)\n",
    "scores=nx.pagerank(nx_graph)"
   ]
  },
  {
   "cell_type": "code",
   "execution_count": 55,
   "metadata": {},
   "outputs": [],
   "source": [
    "ranked_sentences=sorted(((scores[i],s) for i,s in enumerate(sentences)), reverse=True)"
   ]
  },
  {
   "cell_type": "code",
   "execution_count": 56,
   "metadata": {},
   "outputs": [
    {
     "data": {
      "text/plain": [
       "662"
      ]
     },
     "execution_count": 56,
     "metadata": {},
     "output_type": "execute_result"
    }
   ],
   "source": [
    "len(ranked_sentences)"
   ]
  },
  {
   "cell_type": "code",
   "execution_count": 87,
   "metadata": {},
   "outputs": [
    {
     "name": "stdout",
     "output_type": "stream",
     "text": [
      "RESULTS: Close examination of whole genome sequence of 54 SARS-CoV isolates identified before 14(th )October 2003, including 22 from patients in Singapore, revealed the mutations engendered during human-to-Vero and Vero-to-human transmission as well as in multiple Vero cell passages in order to refine our analysis of human-to-human transmission.\n",
      "To minimize the effects of sequencing errors and additional mutations during the cell culture, three strategies were applied to estimate the mutation rate by 1) using the closely related sequences as background controls; 2) adjusting the divergence time for cell culture; or 3) using the common variants only.\n",
      "Thus, the virus DNA-chip development reported in Retrovirology is an important advance in diagnostic application which could be a potent clinical tool for characterizing viral co-infections in AIDS as well as other patients.\n",
      "We were also able to detect heterogeneous viral sequences in primary lung tissues, suggesting a possible coevolution of quasispecies of virus within a single host.\n",
      "This report represents the first use of gene entrapment to identify host factors affecting virus infection.\n",
      "With regard to the pathogenesis of SARS, several mechanisms involving both direct effects on target cells and indirect effects via the immune system may exist.\n",
      "The characterization of cellular genes required for virus infection and/or cell killing will be essential for understanding viral life cycles, and may provide cellular targets for new antiviral therapies.\n",
      "BACKGROUND: With ever increasing numbers of closely related virus genomes being sequenced, it has become desirable to be able to compare two genomes at a level more detailed than gene content because two strains of an organism may share the same set of predicted genes but still differ in their pathogenicity profiles.\n",
      "The interaction between 3a and S, which are expressed from separate subgenomic RNA, would be important for controlling the trafficking properties of S. The cell surface expression of S in infected cells significantly impacts viral assembly, viral spread and viral pathogenesis.\n",
      "CONCLUSIONS: The identification of human blood mononuclear cells as a direct target of SARS-CoV in the model system described here provides a new insight into disease pathology and a tool for investigating the host response and mechanisms of pathogenesis.\n"
     ]
    }
   ],
   "source": [
    "sn=10\n",
    "abstract=\" \"\n",
    "\n",
    "for i in range(sn):\n",
    "    abstract=abstract+ranked_sentences[i][1]\n",
    "    print(ranked_sentences[i][1])"
   ]
  },
  {
   "cell_type": "code",
   "execution_count": 115,
   "metadata": {},
   "outputs": [],
   "source": [
    "#keywords extraction\n",
    "lent=662\n",
    "keys=\" \"\n",
    "for s in range (lent):\n",
    "    keys=keys+ranked_sentences[s][1]"
   ]
  },
  {
   "cell_type": "code",
   "execution_count": 86,
   "metadata": {},
   "outputs": [],
   "source": [
    "import rake"
   ]
  },
  {
   "cell_type": "code",
   "execution_count": 66,
   "metadata": {},
   "outputs": [],
   "source": [
    "import operator"
   ]
  },
  {
   "cell_type": "code",
   "execution_count": 116,
   "metadata": {},
   "outputs": [],
   "source": [
    "rake_object=rake.Rake(\"SmartStoplist.txt\",5,2,5)"
   ]
  },
  {
   "cell_type": "code",
   "execution_count": 117,
   "metadata": {},
   "outputs": [],
   "source": [
    "keywords=rake_object.run(keys)"
   ]
  },
  {
   "cell_type": "code",
   "execution_count": 118,
   "metadata": {},
   "outputs": [
    {
     "name": "stdout",
     "output_type": "stream",
     "text": [
      "[('home thermometer', 4.0), ('spike protein', 3.8), ('ring vaccination', 3.7857142857142856), ('cell culture', 3.7272727272727275), ('common ancestor', 3.666666666666667), ('rna viruses', 3.499092558983666), ('sars coronavirus', 3.4871794871794872), ('viral', 1.8181818181818181), ('protein', 1.8), ('sequence', 1.7391304347826086), ('infection', 1.7083333333333333), ('analysis', 1.6666666666666667), ('common', 1.6666666666666667), ('expression', 1.6363636363636365), ('sequences', 1.625), ('virus', 1.6153846153846154), ('model', 1.6153846153846154), ('epidemic', 1.6153846153846154), ('genes', 1.588235294117647), ('genomes', 1.5833333333333333), ('viruses', 1.5517241379310345), ('genome', 1.5416666666666667), ('coronavirus', 1.5384615384615385), ('important', 1.5294117647058822), ('proteins', 1.5263157894736843), ('based', 1.5), ('suggest', 1.5), ('dependent', 1.5), ('species', 1.5), ('disease', 1.5), ('method', 1.4545454545454546), ('isolates', 1.4545454545454546), ('compared', 1.375), ('specificity', 1.375), ('outbreak', 1.375), ('cases', 1.3636363636363635), ('replication', 1.3636363636363635), ('group', 1.3636363636363635), ('coronaviruses', 1.3333333333333333), ('deletions', 1.3333333333333333), ('patients', 1.2903225806451613), ('identification', 1.2857142857142858), ('detected', 1.2857142857142858), ('pneumonia', 1.2857142857142858), ('methods', 1.28), ('present', 1.2727272727272727), ('vitro', 1.2727272727272727), ('order', 1.25), ('report', 1.25), ('study', 1.25), ('approach', 1.25), ('regions', 1.25), ('insertions', 1.25), ('development', 1.2222222222222223), ('readings', 1.2222222222222223), ('presented', 1.2222222222222223), ('observed', 1.2), ('member', 1.1666666666666667), ('conducted', 1.1666666666666667), ('world', 1.1666666666666667), ('revealed', 1.1428571428571428), ('infections', 1.1428571428571428), ('immunofluorescence', 1.1428571428571428), ('understanding', 1.1428571428571428), ('review', 1.1428571428571428), ('nature', 1.1428571428571428), ('performed', 1.1428571428571428), ('consistent', 1.1428571428571428), ('results', 1.1320754716981132), ('expressed', 1.125), ('result', 1.125), ('found', 1.0666666666666667), ('background', 1.03125), ('suggesting', 1.0), ('characterization', 1.0), ('strains', 1.0), ('conclusions', 1.0), ('presence', 1.0), ('pbmcs', 1.0), ('design', 1.0), ('conclusion', 1.0), ('identified', 1.0), ('estimated', 1.0), ('addition', 1.0), ('shown', 1.0), ('number', 1.0)]\n"
     ]
    }
   ],
   "source": [
    "print(keywords)"
   ]
  }
 ],
 "metadata": {
  "kernelspec": {
   "display_name": "Python 3",
   "language": "python",
   "name": "python3"
  },
  "language_info": {
   "codemirror_mode": {
    "name": "ipython",
    "version": 3
   },
   "file_extension": ".py",
   "mimetype": "text/x-python",
   "name": "python",
   "nbconvert_exporter": "python",
   "pygments_lexer": "ipython3",
   "version": "3.7.6"
  }
 },
 "nbformat": 4,
 "nbformat_minor": 4
}
